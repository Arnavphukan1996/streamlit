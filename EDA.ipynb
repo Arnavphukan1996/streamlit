{
 "cells": [
  {
   "cell_type": "markdown",
   "id": "544d0f85",
   "metadata": {},
   "source": [
    "### Importing Libraries"
   ]
  },
  {
   "cell_type": "code",
   "execution_count": 1,
   "id": "b8a15c5c",
   "metadata": {},
   "outputs": [],
   "source": [
    "import pickle\n",
    "import pandas as pd\n",
    "import numpy as np\n",
    "import seaborn as sns\n",
    "import matplotlib.pyplot as plt\n",
    "from sklearn import tree\n",
    "from sklearn import metrics\n",
    "from sklearn.preprocessing import LabelEncoder\n",
    "from sklearn.model_selection import train_test_split\n",
    "from sklearn.feature_selection import mutual_info_classif\n",
    "from sklearn.feature_selection import SelectKBest\n",
    "from sklearn.metrics import accuracy_score\n",
    "from sklearn.linear_model import LogisticRegression\n",
    "from sklearn.ensemble import RandomForestClassifier "
   ]
  },
  {
   "cell_type": "markdown",
   "id": "bb9e8ff3",
   "metadata": {},
   "source": [
    "### Dataset Load"
   ]
  },
  {
   "cell_type": "code",
   "execution_count": 2,
   "id": "0ab288d2",
   "metadata": {},
   "outputs": [
    {
     "data": {
      "text/html": [
       "<div>\n",
       "<style scoped>\n",
       "    .dataframe tbody tr th:only-of-type {\n",
       "        vertical-align: middle;\n",
       "    }\n",
       "\n",
       "    .dataframe tbody tr th {\n",
       "        vertical-align: top;\n",
       "    }\n",
       "\n",
       "    .dataframe thead th {\n",
       "        text-align: right;\n",
       "    }\n",
       "</style>\n",
       "<table border=\"1\" class=\"dataframe\">\n",
       "  <thead>\n",
       "    <tr style=\"text-align: right;\">\n",
       "      <th></th>\n",
       "      <th>show_id</th>\n",
       "      <th>type</th>\n",
       "      <th>title</th>\n",
       "      <th>director</th>\n",
       "      <th>cast</th>\n",
       "      <th>country</th>\n",
       "      <th>date_added</th>\n",
       "      <th>release_year</th>\n",
       "      <th>rating</th>\n",
       "      <th>duration</th>\n",
       "      <th>listed_in</th>\n",
       "      <th>description</th>\n",
       "    </tr>\n",
       "  </thead>\n",
       "  <tbody>\n",
       "    <tr>\n",
       "      <th>0</th>\n",
       "      <td>s1</td>\n",
       "      <td>Movie</td>\n",
       "      <td>Dick Johnson Is Dead</td>\n",
       "      <td>Kirsten Johnson</td>\n",
       "      <td>NaN</td>\n",
       "      <td>United States</td>\n",
       "      <td>September 25, 2021</td>\n",
       "      <td>2020</td>\n",
       "      <td>PG-13</td>\n",
       "      <td>90 min</td>\n",
       "      <td>Documentaries</td>\n",
       "      <td>As her father nears the end of his life, filmm...</td>\n",
       "    </tr>\n",
       "    <tr>\n",
       "      <th>1</th>\n",
       "      <td>s2</td>\n",
       "      <td>TV Show</td>\n",
       "      <td>Blood &amp; Water</td>\n",
       "      <td>NaN</td>\n",
       "      <td>Ama Qamata, Khosi Ngema, Gail Mabalane, Thaban...</td>\n",
       "      <td>South Africa</td>\n",
       "      <td>September 24, 2021</td>\n",
       "      <td>2021</td>\n",
       "      <td>TV-MA</td>\n",
       "      <td>2 Seasons</td>\n",
       "      <td>International TV Shows, TV Dramas, TV Mysteries</td>\n",
       "      <td>After crossing paths at a party, a Cape Town t...</td>\n",
       "    </tr>\n",
       "    <tr>\n",
       "      <th>2</th>\n",
       "      <td>s3</td>\n",
       "      <td>TV Show</td>\n",
       "      <td>Ganglands</td>\n",
       "      <td>Julien Leclercq</td>\n",
       "      <td>Sami Bouajila, Tracy Gotoas, Samuel Jouy, Nabi...</td>\n",
       "      <td>NaN</td>\n",
       "      <td>September 24, 2021</td>\n",
       "      <td>2021</td>\n",
       "      <td>TV-MA</td>\n",
       "      <td>1 Season</td>\n",
       "      <td>Crime TV Shows, International TV Shows, TV Act...</td>\n",
       "      <td>To protect his family from a powerful drug lor...</td>\n",
       "    </tr>\n",
       "    <tr>\n",
       "      <th>3</th>\n",
       "      <td>s4</td>\n",
       "      <td>TV Show</td>\n",
       "      <td>Jailbirds New Orleans</td>\n",
       "      <td>NaN</td>\n",
       "      <td>NaN</td>\n",
       "      <td>NaN</td>\n",
       "      <td>September 24, 2021</td>\n",
       "      <td>2021</td>\n",
       "      <td>TV-MA</td>\n",
       "      <td>1 Season</td>\n",
       "      <td>Docuseries, Reality TV</td>\n",
       "      <td>Feuds, flirtations and toilet talk go down amo...</td>\n",
       "    </tr>\n",
       "    <tr>\n",
       "      <th>4</th>\n",
       "      <td>s5</td>\n",
       "      <td>TV Show</td>\n",
       "      <td>Kota Factory</td>\n",
       "      <td>NaN</td>\n",
       "      <td>Mayur More, Jitendra Kumar, Ranjan Raj, Alam K...</td>\n",
       "      <td>India</td>\n",
       "      <td>September 24, 2021</td>\n",
       "      <td>2021</td>\n",
       "      <td>TV-MA</td>\n",
       "      <td>2 Seasons</td>\n",
       "      <td>International TV Shows, Romantic TV Shows, TV ...</td>\n",
       "      <td>In a city of coaching centers known to train I...</td>\n",
       "    </tr>\n",
       "  </tbody>\n",
       "</table>\n",
       "</div>"
      ],
      "text/plain": [
       "  show_id     type                  title         director  \\\n",
       "0      s1    Movie   Dick Johnson Is Dead  Kirsten Johnson   \n",
       "1      s2  TV Show          Blood & Water              NaN   \n",
       "2      s3  TV Show              Ganglands  Julien Leclercq   \n",
       "3      s4  TV Show  Jailbirds New Orleans              NaN   \n",
       "4      s5  TV Show           Kota Factory              NaN   \n",
       "\n",
       "                                                cast        country  \\\n",
       "0                                                NaN  United States   \n",
       "1  Ama Qamata, Khosi Ngema, Gail Mabalane, Thaban...   South Africa   \n",
       "2  Sami Bouajila, Tracy Gotoas, Samuel Jouy, Nabi...            NaN   \n",
       "3                                                NaN            NaN   \n",
       "4  Mayur More, Jitendra Kumar, Ranjan Raj, Alam K...          India   \n",
       "\n",
       "           date_added  release_year rating   duration  \\\n",
       "0  September 25, 2021          2020  PG-13     90 min   \n",
       "1  September 24, 2021          2021  TV-MA  2 Seasons   \n",
       "2  September 24, 2021          2021  TV-MA   1 Season   \n",
       "3  September 24, 2021          2021  TV-MA   1 Season   \n",
       "4  September 24, 2021          2021  TV-MA  2 Seasons   \n",
       "\n",
       "                                           listed_in  \\\n",
       "0                                      Documentaries   \n",
       "1    International TV Shows, TV Dramas, TV Mysteries   \n",
       "2  Crime TV Shows, International TV Shows, TV Act...   \n",
       "3                             Docuseries, Reality TV   \n",
       "4  International TV Shows, Romantic TV Shows, TV ...   \n",
       "\n",
       "                                         description  \n",
       "0  As her father nears the end of his life, filmm...  \n",
       "1  After crossing paths at a party, a Cape Town t...  \n",
       "2  To protect his family from a powerful drug lor...  \n",
       "3  Feuds, flirtations and toilet talk go down amo...  \n",
       "4  In a city of coaching centers known to train I...  "
      ]
     },
     "execution_count": 2,
     "metadata": {},
     "output_type": "execute_result"
    }
   ],
   "source": [
    "data=pd.read_csv(\"netflix_titles.csv\")\n",
    "df=pd.DataFrame(data)\n",
    "df.head()"
   ]
  },
  {
   "cell_type": "code",
   "execution_count": 3,
   "id": "c4457416",
   "metadata": {},
   "outputs": [
    {
     "data": {
      "text/plain": [
       "Index(['show_id', 'type', 'title', 'director', 'cast', 'country', 'date_added',\n",
       "       'release_year', 'rating', 'duration', 'listed_in', 'description'],\n",
       "      dtype='object')"
      ]
     },
     "execution_count": 3,
     "metadata": {},
     "output_type": "execute_result"
    }
   ],
   "source": [
    "df.columns "
   ]
  },
  {
   "cell_type": "code",
   "execution_count": 4,
   "id": "2679016f",
   "metadata": {},
   "outputs": [
    {
     "name": "stdout",
     "output_type": "stream",
     "text": [
      "<class 'pandas.core.frame.DataFrame'>\n",
      "RangeIndex: 8807 entries, 0 to 8806\n",
      "Data columns (total 12 columns):\n",
      " #   Column        Non-Null Count  Dtype \n",
      "---  ------        --------------  ----- \n",
      " 0   show_id       8807 non-null   object\n",
      " 1   type          8807 non-null   object\n",
      " 2   title         8807 non-null   object\n",
      " 3   director      6173 non-null   object\n",
      " 4   cast          7982 non-null   object\n",
      " 5   country       7976 non-null   object\n",
      " 6   date_added    8797 non-null   object\n",
      " 7   release_year  8807 non-null   int64 \n",
      " 8   rating        8803 non-null   object\n",
      " 9   duration      8804 non-null   object\n",
      " 10  listed_in     8807 non-null   object\n",
      " 11  description   8807 non-null   object\n",
      "dtypes: int64(1), object(11)\n",
      "memory usage: 825.8+ KB\n"
     ]
    }
   ],
   "source": [
    "df.info()"
   ]
  },
  {
   "cell_type": "code",
   "execution_count": 5,
   "id": "371f81ec",
   "metadata": {},
   "outputs": [
    {
     "data": {
      "text/html": [
       "<div>\n",
       "<style scoped>\n",
       "    .dataframe tbody tr th:only-of-type {\n",
       "        vertical-align: middle;\n",
       "    }\n",
       "\n",
       "    .dataframe tbody tr th {\n",
       "        vertical-align: top;\n",
       "    }\n",
       "\n",
       "    .dataframe thead th {\n",
       "        text-align: right;\n",
       "    }\n",
       "</style>\n",
       "<table border=\"1\" class=\"dataframe\">\n",
       "  <thead>\n",
       "    <tr style=\"text-align: right;\">\n",
       "      <th></th>\n",
       "      <th>count</th>\n",
       "      <th>mean</th>\n",
       "      <th>std</th>\n",
       "      <th>min</th>\n",
       "      <th>25%</th>\n",
       "      <th>50%</th>\n",
       "      <th>75%</th>\n",
       "      <th>max</th>\n",
       "    </tr>\n",
       "  </thead>\n",
       "  <tbody>\n",
       "    <tr>\n",
       "      <th>release_year</th>\n",
       "      <td>8807.0</td>\n",
       "      <td>2014.180198</td>\n",
       "      <td>8.819312</td>\n",
       "      <td>1925.0</td>\n",
       "      <td>2013.0</td>\n",
       "      <td>2017.0</td>\n",
       "      <td>2019.0</td>\n",
       "      <td>2021.0</td>\n",
       "    </tr>\n",
       "  </tbody>\n",
       "</table>\n",
       "</div>"
      ],
      "text/plain": [
       "               count         mean       std     min     25%     50%     75%  \\\n",
       "release_year  8807.0  2014.180198  8.819312  1925.0  2013.0  2017.0  2019.0   \n",
       "\n",
       "                 max  \n",
       "release_year  2021.0  "
      ]
     },
     "execution_count": 5,
     "metadata": {},
     "output_type": "execute_result"
    }
   ],
   "source": [
    "df.describe().T"
   ]
  },
  {
   "cell_type": "code",
   "execution_count": 6,
   "id": "9ad5450c",
   "metadata": {},
   "outputs": [
    {
     "data": {
      "text/plain": [
       "(8807, 12)"
      ]
     },
     "execution_count": 6,
     "metadata": {},
     "output_type": "execute_result"
    }
   ],
   "source": [
    "df.shape"
   ]
  },
  {
   "cell_type": "markdown",
   "id": "4002ccb1",
   "metadata": {},
   "source": [
    "### Check for Null values"
   ]
  },
  {
   "cell_type": "code",
   "execution_count": 7,
   "id": "65988999",
   "metadata": {},
   "outputs": [
    {
     "data": {
      "text/plain": [
       "show_id            0\n",
       "type               0\n",
       "title              0\n",
       "director        2634\n",
       "cast             825\n",
       "country          831\n",
       "date_added        10\n",
       "release_year       0\n",
       "rating             4\n",
       "duration           3\n",
       "listed_in          0\n",
       "description        0\n",
       "dtype: int64"
      ]
     },
     "execution_count": 7,
     "metadata": {},
     "output_type": "execute_result"
    }
   ],
   "source": [
    "## Check for Null values using isnull() function\n",
    "df.isnull().sum()"
   ]
  },
  {
   "cell_type": "code",
   "execution_count": 8,
   "id": "c82da563",
   "metadata": {},
   "outputs": [
    {
     "data": {
      "text/plain": [
       "<AxesSubplot:>"
      ]
     },
     "execution_count": 8,
     "metadata": {},
     "output_type": "execute_result"
    },
    {
     "data": {
      "image/png": "[encoded data removed]",
      "text/plain": [
       "<Figure size 432x288 with 2 Axes>"
      ]
     },
     "metadata": {
      "needs_background": "light"
     },
     "output_type": "display_data"
    }
   ],
   "source": [
    "sns.heatmap(df.isnull())"
   ]
  },
  {
   "cell_type": "markdown",
   "id": "566b237e",
   "metadata": {},
   "source": [
    "### Missing value imputation"
   ]
  },
  {
   "cell_type": "code",
   "execution_count": 9,
   "id": "79c3f424",
   "metadata": {},
   "outputs": [],
   "source": [
    "#replacing the missing value with mode\n",
    "df['director'] = df['director'].fillna(df['director'].mode()[0])\n",
    "df['cast'] = df['cast'].fillna(df['cast'].mode()[0])\n",
    "df['country'] = df['country'].fillna(df['country'].mode()[0])\n",
    "df['date_added'] = df['date_added'].fillna(df['date_added'].mode()[0])\n",
    "df['director'] = df['director'].fillna(df['director'].mode()[0])\n",
    "df['rating'] = df['rating'].fillna(df['rating'].mode()[0])\n",
    "df['duration'] = df['duration'].fillna(df['duration'].mode()[0])"
   ]
  },
  {
   "cell_type": "code",
   "execution_count": 10,
   "id": "4fa1cb2b",
   "metadata": {},
   "outputs": [
    {
     "data": {
      "text/plain": [
       "show_id         0\n",
       "type            0\n",
       "title           0\n",
       "director        0\n",
       "cast            0\n",
       "country         0\n",
       "date_added      0\n",
       "release_year    0\n",
       "rating          0\n",
       "duration        0\n",
       "listed_in       0\n",
       "description     0\n",
       "dtype: int64"
      ]
     },
     "execution_count": 10,
     "metadata": {},
     "output_type": "execute_result"
    }
   ],
   "source": [
    "df.isnull().sum()"
   ]
  },
  {
   "cell_type": "code",
   "execution_count": 11,
   "id": "a925572c",
   "metadata": {},
   "outputs": [
    {
     "data": {
      "text/plain": [
       "0       September 25, 2021\n",
       "1       September 24, 2021\n",
       "2       September 24, 2021\n",
       "3       September 24, 2021\n",
       "4       September 24, 2021\n",
       "               ...        \n",
       "8802     November 20, 2019\n",
       "8803          July 1, 2019\n",
       "8804      November 1, 2019\n",
       "8805      January 11, 2020\n",
       "8806         March 2, 2019\n",
       "Name: date_added, Length: 8807, dtype: object"
      ]
     },
     "execution_count": 11,
     "metadata": {},
     "output_type": "execute_result"
    }
   ],
   "source": [
    "df['date_added']"
   ]
  },
  {
   "cell_type": "markdown",
   "id": "dff8092f",
   "metadata": {},
   "source": [
    "### Separating the date_added to days,year,week and months columns"
   ]
  },
  {
   "cell_type": "code",
   "execution_count": 12,
   "id": "bc4a8f75",
   "metadata": {},
   "outputs": [
    {
     "name": "stdout",
     "output_type": "stream",
     "text": [
      "Date:\n",
      " 0       25\n",
      "1       24\n",
      "2       24\n",
      "3       24\n",
      "4       24\n",
      "        ..\n",
      "8802    20\n",
      "8803     1\n",
      "8804     1\n",
      "8805    11\n",
      "8806     2\n",
      "Name: day_added, Length: 8807, dtype: int64\n",
      "Year:\n",
      " 0       2021\n",
      "1       2021\n",
      "2       2021\n",
      "3       2021\n",
      "4       2021\n",
      "        ... \n",
      "8802    2019\n",
      "8803    2019\n",
      "8804    2019\n",
      "8805    2020\n",
      "8806    2019\n",
      "Name: year_added, Length: 8807, dtype: int64\n",
      "Month:\n",
      " 0        9\n",
      "1        9\n",
      "2        9\n",
      "3        9\n",
      "4        9\n",
      "        ..\n",
      "8802    11\n",
      "8803     7\n",
      "8804    11\n",
      "8805     1\n",
      "8806     3\n",
      "Name: month_added, Length: 8807, dtype: int64\n"
     ]
    },
    {
     "data": {
      "text/plain": [
       "0       5\n",
       "1       4\n",
       "2       4\n",
       "3       4\n",
       "4       4\n",
       "       ..\n",
       "8802    2\n",
       "8803    0\n",
       "8804    4\n",
       "8805    5\n",
       "8806    5\n",
       "Name: weekday, Length: 8807, dtype: int64"
      ]
     },
     "execution_count": 12,
     "metadata": {},
     "output_type": "execute_result"
    }
   ],
   "source": [
    "#separating the date_added to days,year and months columns\n",
    "df[\"date_added\"] = pd.to_datetime(df['date_added'])\n",
    "df['day_added'] = df['date_added'].dt.day\n",
    "print(\"Date:\\n\",df['day_added'])\n",
    "df['year_added'] = df['date_added'].dt.year\n",
    "print(\"Year:\\n\",df['year_added'])\n",
    "df['month_added']=df['date_added'].dt.month\n",
    "print(\"Month:\\n\",df['month_added'])\n",
    "df['year_added'].astype(int)\n",
    "df['day_added'].astype(int)\n",
    "df['weekday'] = df['date_added'].dt.weekday #returns 0 to 6\n",
    "df['weekday']"
   ]
  },
  {
   "cell_type": "code",
   "execution_count": 13,
   "id": "81fe3e91",
   "metadata": {},
   "outputs": [
    {
     "data": {
      "text/html": [
       "<div>\n",
       "<style scoped>\n",
       "    .dataframe tbody tr th:only-of-type {\n",
       "        vertical-align: middle;\n",
       "    }\n",
       "\n",
       "    .dataframe tbody tr th {\n",
       "        vertical-align: top;\n",
       "    }\n",
       "\n",
       "    .dataframe thead th {\n",
       "        text-align: right;\n",
       "    }\n",
       "</style>\n",
       "<table border=\"1\" class=\"dataframe\">\n",
       "  <thead>\n",
       "    <tr style=\"text-align: right;\">\n",
       "      <th></th>\n",
       "      <th>type</th>\n",
       "      <th>title</th>\n",
       "      <th>country</th>\n",
       "      <th>release_year</th>\n",
       "      <th>rating</th>\n",
       "      <th>duration</th>\n",
       "      <th>Genres</th>\n",
       "      <th>date_added</th>\n",
       "      <th>year_added</th>\n",
       "      <th>month_added</th>\n",
       "      <th>weekday</th>\n",
       "    </tr>\n",
       "  </thead>\n",
       "  <tbody>\n",
       "    <tr>\n",
       "      <th>0</th>\n",
       "      <td>Movie</td>\n",
       "      <td>Dick Johnson Is Dead</td>\n",
       "      <td>United States</td>\n",
       "      <td>2020</td>\n",
       "      <td>PG-13</td>\n",
       "      <td>90 min</td>\n",
       "      <td>Documentaries</td>\n",
       "      <td>25</td>\n",
       "      <td>2021</td>\n",
       "      <td>9</td>\n",
       "      <td>5</td>\n",
       "    </tr>\n",
       "    <tr>\n",
       "      <th>1</th>\n",
       "      <td>TV Show</td>\n",
       "      <td>Blood &amp; Water</td>\n",
       "      <td>South Africa</td>\n",
       "      <td>2021</td>\n",
       "      <td>TV-MA</td>\n",
       "      <td>2 Seasons</td>\n",
       "      <td>International TV Shows, TV Dramas, TV Mysteries</td>\n",
       "      <td>24</td>\n",
       "      <td>2021</td>\n",
       "      <td>9</td>\n",
       "      <td>4</td>\n",
       "    </tr>\n",
       "    <tr>\n",
       "      <th>2</th>\n",
       "      <td>TV Show</td>\n",
       "      <td>Ganglands</td>\n",
       "      <td>United States</td>\n",
       "      <td>2021</td>\n",
       "      <td>TV-MA</td>\n",
       "      <td>1 Season</td>\n",
       "      <td>Crime TV Shows, International TV Shows, TV Act...</td>\n",
       "      <td>24</td>\n",
       "      <td>2021</td>\n",
       "      <td>9</td>\n",
       "      <td>4</td>\n",
       "    </tr>\n",
       "    <tr>\n",
       "      <th>3</th>\n",
       "      <td>TV Show</td>\n",
       "      <td>Jailbirds New Orleans</td>\n",
       "      <td>United States</td>\n",
       "      <td>2021</td>\n",
       "      <td>TV-MA</td>\n",
       "      <td>1 Season</td>\n",
       "      <td>Docuseries, Reality TV</td>\n",
       "      <td>24</td>\n",
       "      <td>2021</td>\n",
       "      <td>9</td>\n",
       "      <td>4</td>\n",
       "    </tr>\n",
       "    <tr>\n",
       "      <th>4</th>\n",
       "      <td>TV Show</td>\n",
       "      <td>Kota Factory</td>\n",
       "      <td>India</td>\n",
       "      <td>2021</td>\n",
       "      <td>TV-MA</td>\n",
       "      <td>2 Seasons</td>\n",
       "      <td>International TV Shows, Romantic TV Shows, TV ...</td>\n",
       "      <td>24</td>\n",
       "      <td>2021</td>\n",
       "      <td>9</td>\n",
       "      <td>4</td>\n",
       "    </tr>\n",
       "    <tr>\n",
       "      <th>...</th>\n",
       "      <td>...</td>\n",
       "      <td>...</td>\n",
       "      <td>...</td>\n",
       "      <td>...</td>\n",
       "      <td>...</td>\n",
       "      <td>...</td>\n",
       "      <td>...</td>\n",
       "      <td>...</td>\n",
       "      <td>...</td>\n",
       "      <td>...</td>\n",
       "      <td>...</td>\n",
       "    </tr>\n",
       "    <tr>\n",
       "      <th>8802</th>\n",
       "      <td>Movie</td>\n",
       "      <td>Zodiac</td>\n",
       "      <td>United States</td>\n",
       "      <td>2007</td>\n",
       "      <td>R</td>\n",
       "      <td>158 min</td>\n",
       "      <td>Cult Movies, Dramas, Thrillers</td>\n",
       "      <td>20</td>\n",
       "      <td>2019</td>\n",
       "      <td>11</td>\n",
       "      <td>2</td>\n",
       "    </tr>\n",
       "    <tr>\n",
       "      <th>8803</th>\n",
       "      <td>TV Show</td>\n",
       "      <td>Zombie Dumb</td>\n",
       "      <td>United States</td>\n",
       "      <td>2018</td>\n",
       "      <td>TV-Y7</td>\n",
       "      <td>2 Seasons</td>\n",
       "      <td>Kids' TV, Korean TV Shows, TV Comedies</td>\n",
       "      <td>1</td>\n",
       "      <td>2019</td>\n",
       "      <td>7</td>\n",
       "      <td>0</td>\n",
       "    </tr>\n",
       "    <tr>\n",
       "      <th>8804</th>\n",
       "      <td>Movie</td>\n",
       "      <td>Zombieland</td>\n",
       "      <td>United States</td>\n",
       "      <td>2009</td>\n",
       "      <td>R</td>\n",
       "      <td>88 min</td>\n",
       "      <td>Comedies, Horror Movies</td>\n",
       "      <td>1</td>\n",
       "      <td>2019</td>\n",
       "      <td>11</td>\n",
       "      <td>4</td>\n",
       "    </tr>\n",
       "    <tr>\n",
       "      <th>8805</th>\n",
       "      <td>Movie</td>\n",
       "      <td>Zoom</td>\n",
       "      <td>United States</td>\n",
       "      <td>2006</td>\n",
       "      <td>PG</td>\n",
       "      <td>88 min</td>\n",
       "      <td>Children &amp; Family Movies, Comedies</td>\n",
       "      <td>11</td>\n",
       "      <td>2020</td>\n",
       "      <td>1</td>\n",
       "      <td>5</td>\n",
       "    </tr>\n",
       "    <tr>\n",
       "      <th>8806</th>\n",
       "      <td>Movie</td>\n",
       "      <td>Zubaan</td>\n",
       "      <td>India</td>\n",
       "      <td>2015</td>\n",
       "      <td>TV-14</td>\n",
       "      <td>111 min</td>\n",
       "      <td>Dramas, International Movies, Music &amp; Musicals</td>\n",
       "      <td>2</td>\n",
       "      <td>2019</td>\n",
       "      <td>3</td>\n",
       "      <td>5</td>\n",
       "    </tr>\n",
       "  </tbody>\n",
       "</table>\n",
       "<p>8807 rows × 11 columns</p>\n",
       "</div>"
      ],
      "text/plain": [
       "         type                  title        country  release_year rating  \\\n",
       "0       Movie   Dick Johnson Is Dead  United States          2020  PG-13   \n",
       "1     TV Show          Blood & Water   South Africa          2021  TV-MA   \n",
       "2     TV Show              Ganglands  United States          2021  TV-MA   \n",
       "3     TV Show  Jailbirds New Orleans  United States          2021  TV-MA   \n",
       "4     TV Show           Kota Factory          India          2021  TV-MA   \n",
       "...       ...                    ...            ...           ...    ...   \n",
       "8802    Movie                 Zodiac  United States          2007      R   \n",
       "8803  TV Show            Zombie Dumb  United States          2018  TV-Y7   \n",
       "8804    Movie             Zombieland  United States          2009      R   \n",
       "8805    Movie                   Zoom  United States          2006     PG   \n",
       "8806    Movie                 Zubaan          India          2015  TV-14   \n",
       "\n",
       "       duration                                             Genres  \\\n",
       "0        90 min                                      Documentaries   \n",
       "1     2 Seasons    International TV Shows, TV Dramas, TV Mysteries   \n",
       "2      1 Season  Crime TV Shows, International TV Shows, TV Act...   \n",
       "3      1 Season                             Docuseries, Reality TV   \n",
       "4     2 Seasons  International TV Shows, Romantic TV Shows, TV ...   \n",
       "...         ...                                                ...   \n",
       "8802    158 min                     Cult Movies, Dramas, Thrillers   \n",
       "8803  2 Seasons             Kids' TV, Korean TV Shows, TV Comedies   \n",
       "8804     88 min                            Comedies, Horror Movies   \n",
       "8805     88 min                 Children & Family Movies, Comedies   \n",
       "8806    111 min     Dramas, International Movies, Music & Musicals   \n",
       "\n",
       "      date_added  year_added  month_added  weekday  \n",
       "0             25        2021            9        5  \n",
       "1             24        2021            9        4  \n",
       "2             24        2021            9        4  \n",
       "3             24        2021            9        4  \n",
       "4             24        2021            9        4  \n",
       "...          ...         ...          ...      ...  \n",
       "8802          20        2019           11        2  \n",
       "8803           1        2019            7        0  \n",
       "8804           1        2019           11        4  \n",
       "8805          11        2020            1        5  \n",
       "8806           2        2019            3        5  \n",
       "\n",
       "[8807 rows x 11 columns]"
      ]
     },
     "execution_count": 13,
     "metadata": {},
     "output_type": "execute_result"
    }
   ],
   "source": [
    "df1=df.drop(['show_id','date_added','description','director','cast'],axis=1)\n",
    "df1.rename(columns = {'listed_in':'Genres','day_added':'date_added'}, inplace = True)\n",
    "df1"
   ]
  },
  {
   "cell_type": "code",
   "execution_count": 14,
   "id": "43296a04",
   "metadata": {},
   "outputs": [],
   "source": [
    "# Lets retrieve just the first country\n",
    "df1['country'] = df1['country'].apply(lambda x: x.split(\",\")[0])\n",
    "df1['Genres'] = df1['Genres'].apply(lambda x: x.split(\",\")[0])\n",
    "df1.to_csv(\"updatednetflix.csv\")"
   ]
  },
  {
   "cell_type": "markdown",
   "id": "b81dc879",
   "metadata": {},
   "source": [
    "## EDA"
   ]
  },
  {
   "cell_type": "code",
   "execution_count": 15,
   "id": "89774313",
   "metadata": {},
   "outputs": [
    {
     "data": {
      "image/png": "[encoded data removed]",
      "text/plain": [
       "<Figure size 432x288 with 1 Axes>"
      ]
     },
     "metadata": {},
     "output_type": "display_data"
    }
   ],
   "source": [
    "# Setting labels for items in Chart\n",
    "labels = ['Movie', 'TV show']\n",
    "size = df1['type'].value_counts()\n",
    "  \n",
    "# colors\n",
    "colors = ['Yellow','Pink']\n",
    "  \n",
    "# Pie Chart\n",
    "plt.pie(size, colors=colors, labels=labels,\n",
    "        autopct='%1.1f%%', pctdistance=0.85)\n",
    "  \n",
    "# draw circle\n",
    "centre_circle = plt.Circle((0, 0), 0.70, fc='white')\n",
    "fig = plt.gcf()\n",
    "  \n",
    "# Adding Circle in Pie chart\n",
    "fig.gca().add_artist(centre_circle)\n",
    "  \n",
    "# Adding Title of chart\n",
    "plt.title('Netflix Distribution on Type')\n",
    "  \n",
    "# Displaying Chart\n",
    "plt.show()"
   ]
  },
  {
   "cell_type": "code",
   "execution_count": 16,
   "id": "9903fc49",
   "metadata": {},
   "outputs": [],
   "source": [
    "df1['rating'].replace({'PG-13':'Above 13 years', \n",
    "                      'TV-MA':'Adult','PG': \n",
    "                      'Parental Guidance:Kids',\n",
    "                      'TV-14':'Above 13 years',\n",
    "                      'TV-PG':'Parental Guidance:Kids',\n",
    "                      'TV-Y': 'Kids',\n",
    "                      'TV-Y7': 'Kids above 7 years',\n",
    "                      'R': 'Adult',\n",
    "                      'TV-G':'Kids',\n",
    "                      'G':'Kids',\n",
    "                      'NC-17':'Adult',\n",
    "                      '74 min':'Adult',\n",
    "                      '84 min':'Adult',\n",
    "                      '66 min':'Adult',\n",
    "                      'UR':'Unrated',\n",
    "                      'NR':'Unrated',\n",
    "                      'TV-Y7-FV':'Kids above 7 years'},inplace=True)"
   ]
  },
  {
   "cell_type": "code",
   "execution_count": 17,
   "id": "47b64d44",
   "metadata": {},
   "outputs": [
    {
     "data": {
      "image/png": "[encoded data removed]",
      "text/plain": [
       "<Figure size 1000x600 with 2 Axes>"
      ]
     },
     "metadata": {},
     "output_type": "display_data"
    }
   ],
   "source": [
    "count=pd.DataFrame(df1['rating'].value_counts())\n",
    "fig,axes=plt.subplots(nrows=1,ncols=2,figsize=(10,6),dpi=100)\n",
    "mycolors=['#52D726','#FFEC00','#FF7300','#007ED6','#FF0000','#7CDDDD']\n",
    "x=df1['rating'][df1.type=='Movie'].value_counts()\n",
    "x1=df1['rating'][df1.type=='TV Show'].value_counts()\n",
    "y=count.index\n",
    "axes[0].pie(x,labels=y,colors=mycolors,autopct='%1.2f%%' )\n",
    "axes[0].set_title('Movie',fontsize = 20)\n",
    "axes[1].pie(x1,labels=y,colors=mycolors,autopct='%1.2f%%' )\n",
    "axes[1].set_title('TV Show',fontsize = 20)\n",
    "plt.tight_layout()\n",
    "plt.show()"
   ]
  },
  {
   "cell_type": "code",
   "execution_count": 18,
   "id": "2d95fb02",
   "metadata": {},
   "outputs": [
    {
     "data": {
      "image/png": "[encoded data removed]",
      "text/plain": [
       "<Figure size 864x432 with 1 Axes>"
      ]
     },
     "metadata": {
      "needs_background": "light"
     },
     "output_type": "display_data"
    }
   ],
   "source": [
    "#top 5 country with number of shows\n",
    "topfive=df1['country'].value_counts()[:5]\n",
    "x1= topfive.index\n",
    "y1= topfive.values\n",
    "plt.figure(figsize=(12,6))\n",
    "plt.title(\"Top 5 Countries Producing Netflix Shows\")\n",
    "plt.xlabel(\"Countries\")\n",
    "plt.ylabel(\"Number of shows\")\n",
    "sns.barplot(x=x1,y=y1)\n",
    "plt.show()"
   ]
  },
  {
   "cell_type": "code",
   "execution_count": 19,
   "id": "1eeb8542",
   "metadata": {},
   "outputs": [
    {
     "data": {
      "image/png": "[encoded data removed]",
      "text/plain": [
       "<Figure size 1224x432 with 1 Axes>"
      ]
     },
     "metadata": {
      "needs_background": "light"
     },
     "output_type": "display_data"
    }
   ],
   "source": [
    "#let's see side by side comparision\n",
    "x2=df1[df1['country'].isin(x1)]\n",
    "plt.figure(figsize=(17,6))\n",
    "plot = sns.countplot(x='type',data=x2,hue='country')\n",
    "plot.set_ylabel(\"Count of Content\",fontsize=10, weight='bold')\n",
    "plot.set_xlabel(\"Countries\",fontsize=10,weight='bold')\n",
    "plt.legend(title='country', loc='upper right')\n",
    "plt.title(' Comparision of TV Show/ Movies of top five content producing countries');"
   ]
  },
  {
   "cell_type": "code",
   "execution_count": 20,
   "id": "36127cf8",
   "metadata": {},
   "outputs": [
    {
     "data": {
      "image/png": "[encoded data removed]",
      "text/plain": [
       "<Figure size 864x432 with 1 Axes>"
      ]
     },
     "metadata": {
      "needs_background": "light"
     },
     "output_type": "display_data"
    }
   ],
   "source": [
    "plt.figure(figsize = [12,6])\n",
    "ax=sns.countplot(x = df1['rating'], order=df1['rating'].value_counts().index)\n",
    "ax.set(xlabel='Rating', ylabel='Number of Shows')\n",
    "plt.title(\"Netflix Show Based on Rating\")\n",
    "plt.show()"
   ]
  },
  {
   "cell_type": "code",
   "execution_count": null,
   "id": "820516aa",
   "metadata": {},
   "outputs": [],
   "source": [
    "#displaying the number of shows released yearwise\n",
    "x1=df1[df1['year_added']>2015]\n",
    "x=x1['year_added'].unique()\n",
    "#x=df1['year_added'].unique()\n",
    "y=x1['year_added'].value_counts()\n",
    "plt.figure(figsize = [10,5])\n",
    "ax=sns.barplot(x,y)\n",
    "ax.set(xlabel='Year', ylabel='Number of Shows')\n",
    "plt.title(\"Netflix Show Based on Year\")\n",
    "plt.show()"
   ]
  },
  {
   "cell_type": "code",
   "execution_count": null,
   "id": "2eec42fa",
   "metadata": {},
   "outputs": [],
   "source": [
    "df1['month_added'].replace({1:'January', \n",
    "                            2:'February',\n",
    "                            3:'March',\n",
    "                            4:'April',\n",
    "                            5:'May',\n",
    "                            6:'June',\n",
    "                            7:'July',\n",
    "                            8:'August',\n",
    "                            9:'September',\n",
    "                            10:'October',\n",
    "                            11:'November',\n",
    "                            12:'December'},inplace=True)"
   ]
  },
  {
   "cell_type": "code",
   "execution_count": null,
   "id": "74ca4a36",
   "metadata": {},
   "outputs": [],
   "source": [
    "#displaying the number of shows released monthwise\n",
    "x=df1['month_added'].unique()\n",
    "y=df1['month_added'].value_counts().sort_values(ascending=True)\n",
    "plt.figure(figsize = [10,5])\n",
    "ax=sns.barplot(x,y)\n",
    "ax.set(xlabel='Month', ylabel='Number of Shows')\n",
    "plt.xticks(rotation =45)\n",
    "plt.title(\"Netflix Shows Based on Months\")\n",
    "plt.show()"
   ]
  },
  {
   "cell_type": "code",
   "execution_count": null,
   "id": "ef4d8a12",
   "metadata": {},
   "outputs": [],
   "source": [
    "#displaying the number of shows released daywise\n",
    "x=df1['date_added'].unique()\n",
    "y=df1['date_added'].value_counts()\n",
    "plt.figure(figsize = [10,6])\n",
    "ax=sns.barplot(x,y)\n",
    "ax.set(xlabel='Date', ylabel='Number of Shows')\n",
    "plt.xticks(rotation =45)\n",
    "plt.title(\"Netflix Shows Based on Dates\")\n",
    "plt.show()"
   ]
  },
  {
   "cell_type": "code",
   "execution_count": null,
   "id": "15c89e11",
   "metadata": {},
   "outputs": [],
   "source": [
    "#highest weekwise shows\n",
    "week1=df1[(df1['date_added']>=1) & (df1['date_added']<8)]\n",
    "week2=df1[(df1['date_added']>=8) & (df1['date_added']<15)]\n",
    "week3=df1[(df1['date_added']>=15) & (df1['date_added']<22)]\n",
    "week4=df1[(df1['date_added']>=22) & (df1['date_added']<31)]\n",
    "\n",
    "xweek = ['week 1','week 2','week 3','week 4']\n",
    "yweek = [len(week1), len(week2), len(week3), len(week4)]\n",
    "sns.color_palette(\"mako\", as_cmap=True)\n",
    "sns.barplot(x = xweek, y = yweek,palette='rainbow')\n",
    "plt.ylabel('Number of Shows')\n",
    "plt.title(\"Netflix Show Weekwise\")\n",
    "plt.show()"
   ]
  },
  {
   "cell_type": "code",
   "execution_count": null,
   "id": "d2b9767d",
   "metadata": {},
   "outputs": [],
   "source": [
    "df1.columns"
   ]
  },
  {
   "cell_type": "code",
   "execution_count": null,
   "id": "4ab66865",
   "metadata": {},
   "outputs": [],
   "source": [
    "filtered_genres = df1.set_index('title').Genres.str.split(', ', expand=True).stack().reset_index(level=1, drop=True)\n",
    "plt.figure(figsize=(10,10))\n",
    "g = sns.countplot(y = filtered_genres, order=filtered_genres.value_counts().index[:10],palette=\"Set3\")\n",
    "plt.title('Top 10 Genres on Netflix')\n",
    "plt.show()"
   ]
  },
  {
   "cell_type": "code",
   "execution_count": null,
   "id": "436343e4",
   "metadata": {},
   "outputs": [],
   "source": [
    "filtered_genres.value_counts()[0:10]"
   ]
  },
  {
   "cell_type": "code",
   "execution_count": null,
   "id": "1486a2c5",
   "metadata": {},
   "outputs": [],
   "source": [
    "fill_duration = df1.set_index('title').duration\n",
    "plt.figure(figsize=(10,6))\n",
    "g = sns.countplot(x = fill_duration, order=fill_duration.value_counts().index[:5],palette=\"Set3\")\n",
    "plt.title('Top 5 Netflix Shows based on Duration')\n",
    "plt.xlabel('Duration')\n",
    "plt.ylabel('No of Shows')\n",
    "plt.show()"
   ]
  },
  {
   "cell_type": "code",
   "execution_count": null,
   "id": "c5c1a780",
   "metadata": {},
   "outputs": [],
   "source": [
    "df['weekday'] = df['date_added'].dt.weekday #returns 0 to 6\n",
    "df['weekday']"
   ]
  },
  {
   "cell_type": "code",
   "execution_count": null,
   "id": "7670e4ca",
   "metadata": {},
   "outputs": [],
   "source": [
    "def days(weekday):\n",
    "    if weekday<2:\n",
    "        return 'Monday'\n",
    "    elif weekday<3:\n",
    "        return 'Tuesday'\n",
    "    elif weekday<4:\n",
    "        return 'Wednesday'\n",
    "    elif weekday<5:\n",
    "        return 'Thursday'\n",
    "    elif weekday<6:\n",
    "        return 'Friday'\n",
    "    else:\n",
    "        return 'Saturday'"
   ]
  },
  {
   "cell_type": "code",
   "execution_count": null,
   "id": "1a66d698",
   "metadata": {},
   "outputs": [],
   "source": [
    "df['weekday']=df['weekday'].apply(days)"
   ]
  },
  {
   "cell_type": "code",
   "execution_count": null,
   "id": "14cf7afc",
   "metadata": {},
   "outputs": [],
   "source": [
    "p=df['weekday'].value_counts().sort_values(ascending=True)\n",
    "x=p.keys()\n",
    "y=p.values\n",
    "sns.barplot(x,y,palette='rocket')\n",
    "plt.title(\"Netflix Show Production Daywise\")"
   ]
  },
  {
   "cell_type": "markdown",
   "id": "3ffed332",
   "metadata": {},
   "source": [
    "## Machine Learning"
   ]
  },
  {
   "cell_type": "markdown",
   "id": "6199e69d",
   "metadata": {},
   "source": [
    "### Label Encoding"
   ]
  },
  {
   "cell_type": "code",
   "execution_count": null,
   "id": "8e71f2c2",
   "metadata": {},
   "outputs": [],
   "source": [
    "from sklearn.preprocessing import LabelEncoder\n",
    "lbl_encode=LabelEncoder()"
   ]
  },
  {
   "cell_type": "markdown",
   "id": "e9b21ef8",
   "metadata": {},
   "source": [
    "Applying label encoding on columns title, country, date_added, release_year, month_added, rating, duration, Genres in our dataset."
   ]
  },
  {
   "cell_type": "code",
   "execution_count": null,
   "id": "e77cfd28",
   "metadata": {},
   "outputs": [],
   "source": [
    "df1['title']=lbl_encode.fit_transform(df1['title'])\n",
    "df1['country']=lbl_encode.fit_transform(df1['country'])\n",
    "df1['date_added']=lbl_encode.fit_transform(df1['date_added'])\n",
    "df1['release_year']=lbl_encode.fit_transform(df1['release_year'])\n",
    "df1['month_added']=lbl_encode.fit_transform(df1['month_added'])\n",
    "df1['rating']=lbl_encode.fit_transform(df1['rating'])\n",
    "df1['duration']=lbl_encode.fit_transform(df1['duration'])\n",
    "df1['Genres']=lbl_encode.fit_transform(df1['Genres'])"
   ]
  },
  {
   "cell_type": "markdown",
   "id": "c698ddd0",
   "metadata": {},
   "source": [
    "Saving the label encoded code to machine.csv file "
   ]
  },
  {
   "cell_type": "code",
   "execution_count": null,
   "id": "3d61dea0",
   "metadata": {},
   "outputs": [],
   "source": [
    "df1.to_csv(\"machine.csv\")"
   ]
  },
  {
   "cell_type": "markdown",
   "id": "23a69d7c",
   "metadata": {},
   "source": [
    "### Feature Selection"
   ]
  },
  {
   "cell_type": "markdown",
   "id": "de75843c",
   "metadata": {},
   "source": [
    "We consider the attributes except type in x variable and type on target variable(i.e y)"
   ]
  },
  {
   "cell_type": "code",
   "execution_count": null,
   "id": "f80f9672",
   "metadata": {},
   "outputs": [],
   "source": [
    "x=df1.drop(['type'],axis=1)\n",
    "y=df1['type']"
   ]
  },
  {
   "cell_type": "markdown",
   "id": "54ad619c",
   "metadata": {},
   "source": [
    "We have divided the entire data into 20% test and 80% train size."
   ]
  },
  {
   "cell_type": "code",
   "execution_count": null,
   "id": "ff6e7e65",
   "metadata": {},
   "outputs": [],
   "source": [
    "from sklearn.model_selection import train_test_split\n",
    "xtrain,xtest,ytrain,ytest=train_test_split(x,y,test_size=0.2)"
   ]
  },
  {
   "cell_type": "markdown",
   "id": "a615aa35",
   "metadata": {},
   "source": [
    "Checking for most dependent variable that we need for the machine model for prediction with mutual_info_classif"
   ]
  },
  {
   "cell_type": "code",
   "execution_count": null,
   "id": "c28684ee",
   "metadata": {},
   "outputs": [],
   "source": [
    "from sklearn.feature_selection import mutual_info_classif\n",
    "mutual_info=mutual_info_classif(xtrain,ytrain)\n",
    "mutual_info=pd.Series(mutual_info)\n",
    "mutual_info.index=xtrain.columns\n",
    "s=mutual_info.sort_values(ascending=False)\n",
    "s.plot.bar(figsize=(10,6))"
   ]
  },
  {
   "cell_type": "markdown",
   "id": "40625eab",
   "metadata": {},
   "source": [
    "After analyzing the plot for the most important attribute/variable we now consider the top five attribute with the use of SelectKBest"
   ]
  },
  {
   "cell_type": "code",
   "execution_count": null,
   "id": "76614b4e",
   "metadata": {},
   "outputs": [],
   "source": [
    "from sklearn.feature_selection import SelectKBest\n",
    "top_five_cols=SelectKBest(mutual_info_classif,k=5)\n",
    "top_five_cols.fit(xtrain.fillna(0),ytrain)\n",
    "xtrain.columns[top_five_cols.get_support()]"
   ]
  },
  {
   "cell_type": "markdown",
   "id": "1acb75ba",
   "metadata": {},
   "source": [
    "Dropping the irrelevant attributes that we do not need. "
   ]
  },
  {
   "cell_type": "code",
   "execution_count": null,
   "id": "bb27f57d",
   "metadata": {},
   "outputs": [],
   "source": [
    "x1=df1.drop(['type','title','month_added','date_added','release_year'],axis=1)\n",
    "y1=df1['type']"
   ]
  },
  {
   "cell_type": "code",
   "execution_count": null,
   "id": "e4cd5494",
   "metadata": {},
   "outputs": [],
   "source": [
    "x_train,x_test,y_train,y_test=train_test_split(x1,y1,test_size=0.2)"
   ]
  },
  {
   "cell_type": "markdown",
   "id": "48979471",
   "metadata": {},
   "source": [
    "### Logistic Regression"
   ]
  },
  {
   "cell_type": "code",
   "execution_count": null,
   "id": "be68c1e5",
   "metadata": {},
   "outputs": [],
   "source": [
    "from sklearn.linear_model import LogisticRegression\n",
    "logr = LogisticRegression()\n",
    "logr.fit(x_train, y_train)"
   ]
  },
  {
   "cell_type": "code",
   "execution_count": null,
   "id": "151c16fb",
   "metadata": {},
   "outputs": [],
   "source": [
    "result=logr.predict(x_test)\n",
    "result"
   ]
  },
  {
   "cell_type": "code",
   "execution_count": null,
   "id": "6bb0c15e",
   "metadata": {},
   "outputs": [],
   "source": [
    "score = logr.score(x_test,y_test)*100\n",
    "print(score)"
   ]
  },
  {
   "cell_type": "code",
   "execution_count": null,
   "id": "9798f0df",
   "metadata": {},
   "outputs": [],
   "source": [
    "from sklearn import metrics\n",
    "cm = metrics.confusion_matrix(y_test,result)"
   ]
  },
  {
   "cell_type": "code",
   "execution_count": null,
   "id": "5351b374",
   "metadata": {},
   "outputs": [],
   "source": [
    "plt.figure(figsize=(9,9))\n",
    "sns.heatmap(cm, annot=True, fmt=\".3f\", linewidths=.5, square = True, cmap = 'Blues_r')\n",
    "plt.ylabel('Actual label');\n",
    "plt.xlabel('Predicted label');\n",
    "all_sample_title = 'Accuracy Score: {0}'.format(score)\n",
    "plt.title(all_sample_title, size = 15)\n",
    "plt.show()"
   ]
  },
  {
   "cell_type": "markdown",
   "id": "eb6fbb13",
   "metadata": {},
   "source": [
    "### Decision Tree"
   ]
  },
  {
   "cell_type": "code",
   "execution_count": null,
   "id": "9b441305",
   "metadata": {},
   "outputs": [],
   "source": [
    "from sklearn import tree\n",
    "train_features, test_features, train_targets, test_targets = train_test_split(x1,y1, test_size=0.2, random_state=123)\n",
    "decision_tree = tree.DecisionTreeClassifier(random_state=456)\n",
    "decision_tree = decision_tree.fit(train_features, train_targets)\n",
    "class_names = ['TV Show','Movie']\n",
    "feature_names=['country','rating','duration','Genres','year_added','weekday']"
   ]
  },
  {
   "cell_type": "code",
   "execution_count": null,
   "id": "6ca9b9dc",
   "metadata": {},
   "outputs": [],
   "source": [
    "plt.subplots(figsize=(17, 12))\n",
    "tree.plot_tree(decision_tree, feature_names=feature_names, filled=True, rounded=True, class_names=class_names)\n",
    "plt.savefig(\"decision_tree.png\")"
   ]
  },
  {
   "cell_type": "code",
   "execution_count": null,
   "id": "64563e59",
   "metadata": {},
   "outputs": [],
   "source": [
    "from sklearn.metrics import accuracy_score\n",
    "clf = tree.DecisionTreeClassifier()\n",
    "clf = clf.fit(x1,y1)\n",
    "labels_test = clf.predict(test_features)\n",
    "acc = accuracy_score(labels_test,test_targets)*100\n",
    "print(\"Accuracy of Decision Tree Classifier is:\",acc)"
   ]
  },
  {
   "cell_type": "code",
   "execution_count": null,
   "id": "f6e66854",
   "metadata": {},
   "outputs": [],
   "source": [
    "from sklearn import metrics\n",
    "cm1 = metrics.confusion_matrix(test_targets,labels_test)"
   ]
  },
  {
   "cell_type": "code",
   "execution_count": null,
   "id": "8d157008",
   "metadata": {},
   "outputs": [],
   "source": [
    "plt.figure(figsize=(9,9))\n",
    "sns.heatmap(cm1, annot=True, fmt=\".3f\", linewidths=.5, square = True, cmap = 'Blues_r')\n",
    "plt.ylabel('Actual label');\n",
    "plt.xlabel('Predicted label');\n",
    "all_sample_title = 'Accuracy Score: {0}'.format(acc)\n",
    "plt.title(all_sample_title, size = 15)\n",
    "plt.show()"
   ]
  },
  {
   "cell_type": "markdown",
   "id": "9a177257",
   "metadata": {},
   "source": [
    "### Random Forest "
   ]
  },
  {
   "cell_type": "code",
   "execution_count": null,
   "id": "3f33a20f",
   "metadata": {},
   "outputs": [],
   "source": [
    "from sklearn.ensemble import RandomForestClassifier \n",
    "model = RandomForestClassifier(max_depth=4, random_state = 10) \n",
    "model.fit(x_train, y_train)"
   ]
  },
  {
   "cell_type": "code",
   "execution_count": null,
   "id": "3993d688",
   "metadata": {},
   "outputs": [],
   "source": [
    "from sklearn.metrics import accuracy_score\n",
    "pred = model.predict(x_test)\n",
    "acc1=round(accuracy_score(y_test,pred)*100,2)\n",
    "print(\"Accuracy of Random Forest Classifier is: \",acc1)"
   ]
  },
  {
   "cell_type": "code",
   "execution_count": null,
   "id": "980fcc6b",
   "metadata": {},
   "outputs": [],
   "source": [
    "from sklearn import metrics\n",
    "cm2 = metrics.confusion_matrix(y_test,pred)\n"
   ]
  },
  {
   "cell_type": "code",
   "execution_count": null,
   "id": "fa166bae",
   "metadata": {},
   "outputs": [],
   "source": [
    "plt.figure(figsize=(9,9))\n",
    "sns.heatmap(cm2, annot=True, fmt=\".3f\", linewidths=.5, square = True, cmap = 'Blues_r')\n",
    "plt.ylabel('Actual label');\n",
    "plt.xlabel('Predicted label');\n",
    "all_sample_title = 'Accuracy Score: {0}'.format(acc1)\n",
    "plt.title(all_sample_title, size = 15)\n",
    "plt.show()"
   ]
  },
  {
   "cell_type": "code",
   "execution_count": null,
   "id": "66d1911f",
   "metadata": {},
   "outputs": [],
   "source": [
    "# pickling the model\n",
    "import pickle\n",
    "pickle_out = open(\"class1.pkl\", \"wb\")\n",
    "pickle.dump(model, pickle_out)\n",
    "pickle_out.close()"
   ]
  },
  {
   "cell_type": "code",
   "execution_count": null,
   "id": "ee220063",
   "metadata": {},
   "outputs": [],
   "source": []
  }
 ],
 "metadata": {
  "kernelspec": {
   "display_name": "Python 3 (ipykernel)",
   "language": "python",
   "name": "python3"
  },
  "language_info": {
   "codemirror_mode": {
    "name": "ipython",
    "version": 3
   },
   "file_extension": ".py",
   "mimetype": "text/x-python",
   "name": "python",
   "nbconvert_exporter": "python",
   "pygments_lexer": "ipython3",
   "version": "3.9.7"
  }
 },
 "nbformat": 4,
 "nbformat_minor": 5
}
